{
 "cells": [
  {
   "cell_type": "code",
   "execution_count": 38,
   "metadata": {},
   "outputs": [],
   "source": [
    "# Install Dependencies \n",
    "\n",
    "import pandas as pd\n",
    "import numpy as np\n",
    "import matplotlib.pyplot as plt\n",
    "from sklearn.model_selection import train_test_split\n",
    "from sklearn.model_selection import StratifiedKFold,cross_val_score\n",
    "from sklearn.datasets import load_digits\n",
    "from sklearn.metrics import accuracy_score\n",
    "from sklearn.metrics import classification_report\n",
    "from sklearn.naive_bayes import GaussianNB\n",
    "from sklearn import tree\n",
    "from sklearn import svm\n",
    "from sklearn.neighbors import KNeighborsClassifier\n",
    "from sklearn.neural_network import MLPClassifier\n",
    "from sklearn.linear_model import SGDClassifier\n",
    "\n",
    "\n"
   ]
  },
  {
   "cell_type": "code",
   "execution_count": 68,
   "metadata": {},
   "outputs": [
    {
     "data": {
      "text/plain": [
       "Text(0.5, 1.0, 'ALGORITHM COMPARISON')"
      ]
     },
     "execution_count": 68,
     "metadata": {},
     "output_type": "execute_result"
    },
    {
     "data": {
      "image/png": "[encoded data removed]",
      "text/plain": [
       "<Figure size 432x288 with 1 Axes>"
      ]
     },
     "metadata": {
      "needs_background": "light"
     },
     "output_type": "display_data"
    }
   ],
   "source": [
    "# TOY Dataset from Scikit Learn Repository\n",
    "x=load_digits()\n",
    "\n",
    "# Dividing the data into training and testing sets\n",
    "X_train,X_test,Y_train,Y_test=train_test_split(x.data,x.target,test_size=0.2)\n",
    "\n",
    "# TRAINING OUR 6 CLASSIFIERS\n",
    "\n",
    "SVM_CLF=svm.SVC(gamma=1,C=1).fit(X_train,Y_train) # SUPPORT_VECTOR_MACHINE\n",
    "\n",
    "NB_CLF=GaussianNB().fit(X_train,Y_train) # NAIVE_BAYES\n",
    "\n",
    "DT_CLF=tree.DecisionTreeClassifier().fit(X_train,Y_train) # DECISION_TREE\n",
    "\n",
    "KNN_CLF=KNeighborsClassifier(n_neighbors=3).fit(X_train,Y_train) # K_NEAREST_NEIGHBORS\n",
    "\n",
    "NN_CLF= MLPClassifier(solver='lbfgs', alpha=1e-5,hidden_layer_sizes=(5, 2), random_state=1).fit(X_train,Y_train) # NEURALNET\n",
    "\n",
    "SGD_CLF = SGDClassifier(max_iter=1000, tol=1e-3).fit(X_train,Y_train) #STOCHASTICS GRADIENT DESCENT\n",
    "\n",
    "# CROSS VAIDATION OF THE DATA\n",
    "a=StratifiedKFold(n_splits=10,random_state=1)\n",
    "\n",
    "\n",
    "\n",
    "#CALCULATING THE CROSS VALUE SCORE\n",
    "s=cross_val_score(SVM_CLF,X_train,Y_train,cv=a,scoring='accuracy').mean()\n",
    "\n",
    "s2=cross_val_score(NB_CLF,X_train,Y_train,cv=a,scoring='accuracy').mean()\n",
    "\n",
    "s3=cross_val_score(DT_CLF,X_train,Y_train,cv=a,scoring='accuracy').mean()\n",
    "\n",
    "s4=cross_val_score(KNN_CLF,X_train,Y_train,cv=a,scoring='accuracy').mean()\n",
    "\n",
    "s5=cross_val_score(NN_CLF,X_train,Y_train,cv=a,scoring='accuracy').mean()\n",
    "\n",
    "s6=cross_val_score(SGD_CLF,X_train,Y_train,cv=a,scoring='accuracy').mean()\n",
    "\n",
    "# ALGORITHM COMPARISON\n",
    "x2=['SVM','NB','DTREE','KNN','NN','SGD']\n",
    "y=[s,s2,s3,s4,s5,s6]\n",
    "plt.plot(x2,y)\n",
    "plt.bar(x2,y,width=0.5)\n",
    "plt.xlabel('CLASSIFIERS')\n",
    "plt.ylabel('CROSS_VAL_SCORE')\n",
    "plt.title('ALGORITHM COMPARISON')\n",
    "\n",
    "\n",
    "    \n"
   ]
  },
  {
   "cell_type": "code",
   "execution_count": 79,
   "metadata": {},
   "outputs": [
    {
     "name": "stdout",
     "output_type": "stream",
     "text": [
      "SUPPORT_VECTOR_MACHINE HAS  8.333333333333332 % ACCURACY\n",
      "\n",
      "NAIVE_BAYES HAS  85.27777777777777 % ACCURACY\n",
      "\n",
      "DECISION TREE HAS  84.72222222222221 % ACCURACY\n",
      "\n",
      "KNEARESTNEIGHBOR HAS  98.61111111111111 % ACCURACY\n",
      "\n",
      "NEURAL NETWORKS HAS  42.77777777777778 % ACCURACY\n",
      "\n",
      "STOCHASTIC GRADIENT DESCENT HAS  94.72222222222221 % ACCURACY\n",
      "\n"
     ]
    },
    {
     "data": {
      "text/plain": [
       "Text(0.5, 1.0, 'FINAL ACCURACY IN %')"
      ]
     },
     "execution_count": 79,
     "metadata": {},
     "output_type": "execute_result"
    },
    {
     "data": {
      "image/png": "[encoded data removed]",
      "text/plain": [
       "<Figure size 432x288 with 1 Axes>"
      ]
     },
     "metadata": {
      "needs_background": "light"
     },
     "output_type": "display_data"
    }
   ],
   "source": [
    "# TESTING OUR MODELS\n",
    "s=SVM_CLF.predict(X_test)\n",
    "s2=NB_CLF.predict(X_test)\n",
    "s3=DT_CLF.predict(X_test)\n",
    "s4=KNN_CLF.predict(X_test)\n",
    "s5=NN_CLF.predict(X_test)\n",
    "s6=SGD_CLF.predict(X_test)\n",
    "\n",
    "# PRINTING THE ACCURACIES\n",
    "SVM_ACC=accuracy_score(Y_test,s)*100\n",
    "NB_ACC=accuracy_score(Y_test,s2)*100\n",
    "DT_ACC=accuracy_score(Y_test,s3)*100\n",
    "KNN_ACC=accuracy_score(Y_test,s4)*100\n",
    "NN_ACC=accuracy_score(Y_test,s5)*100\n",
    "SGD_ACC=accuracy_score(Y_test,s6)*100\n",
    "\n",
    "Y2=[SVM_ACC,NB_ACC,DT_ACC,KNN_ACC,NN_ACC,SGD_ACC]\n",
    "print(\"SUPPORT_VECTOR_MACHINE HAS \",SVM_ACC,\"% ACCURACY\\n\")\n",
    "print(\"NAIVE_BAYES HAS \",NB_ACC,\"% ACCURACY\\n\")\n",
    "print(\"DECISION TREE HAS \",DT_ACC,\"% ACCURACY\\n\")\n",
    "print(\"KNEARESTNEIGHBOR HAS \",KNN_ACC,\"% ACCURACY\\n\")\n",
    "print(\"NEURAL NETWORKS HAS \",NN_ACC,\"% ACCURACY\\n\")\n",
    "print(\"STOCHASTIC GRADIENT DESCENT HAS \",SGD_ACC,\"% ACCURACY\\n\")\n",
    "plt.bar(x2,Y2)\n",
    "plt.xlabel('CLASSIFIERS')\n",
    "plt.ylabel('ACCURACY')\n",
    "plt.title('FINAL ACCURACY IN %')"
   ]
  },
  {
   "cell_type": "code",
   "execution_count": null,
   "metadata": {},
   "outputs": [],
   "source": []
  }
 ],
 "metadata": {
  "kernelspec": {
   "display_name": "Python 3",
   "language": "python",
   "name": "python3"
  },
  "language_info": {
   "codemirror_mode": {
    "name": "ipython",
    "version": 3
   },
   "file_extension": ".py",
   "mimetype": "text/x-python",
   "name": "python",
   "nbconvert_exporter": "python",
   "pygments_lexer": "ipython3",
   "version": "3.7.3"
  }
 },
 "nbformat": 4,
 "nbformat_minor": 2
}
